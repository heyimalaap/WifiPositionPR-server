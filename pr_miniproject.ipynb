{
  "nbformat": 4,
  "nbformat_minor": 0,
  "metadata": {
    "colab": {
      "provenance": []
    },
    "kernelspec": {
      "name": "python3",
      "display_name": "Python 3"
    },
    "language_info": {
      "name": "python"
    }
  },
  "cells": [
    {
      "cell_type": "code",
      "source": [
        "%matplotlib inline"
      ],
      "metadata": {
        "id": "HWlkPZhGabP1"
      },
      "execution_count": 62,
      "outputs": []
    },
    {
      "cell_type": "markdown",
      "source": [
        "# **Load the dataset**"
      ],
      "metadata": {
        "id": "zUL0YjbxQJv_"
      }
    },
    {
      "cell_type": "code",
      "execution_count": 63,
      "metadata": {
        "id": "AEHzpIfTvvLF"
      },
      "outputs": [],
      "source": [
        "import json\n",
        "\n",
        "with open('data.json', 'r') as file:\n",
        "  content = file.read()\n",
        "dataset = json.loads(content)"
      ]
    },
    {
      "cell_type": "code",
      "source": [
        "dataset"
      ],
      "metadata": {
        "id": "ZuMbNmg8wgAU"
      },
      "execution_count": null,
      "outputs": []
    },
    {
      "cell_type": "code",
      "source": [
        "x = []\n",
        "y = []\n",
        "\n",
        "for item in dataset:\n",
        "  y.append(item['label'])\n",
        "  ap_map = dict()\n",
        "  for ap in item['ap_list']:\n",
        "    ap_map[ap['ssid_bssid']] = ap['signal_strength']\n",
        "  x.append(ap_map)\n",
        "\n",
        "print(y)\n",
        "print(x)"
      ],
      "metadata": {
        "colab": {
          "base_uri": "https://localhost:8080/"
        },
        "id": "Z6p0ROnhwhr5",
        "outputId": "1d80e873-f11d-42b3-f793-b1f39c76f8e9"
      },
      "execution_count": 65,
      "outputs": [
        {
          "output_type": "stream",
          "name": "stdout",
          "text": [
            "['yat-chanakya room', 'yat-chanakya room', 'yat-chanakya room', 'yat-chanakya room', 'yat-chanakya room', 'yat-chanakya room', 'yat-chanakya room', 'center hall', 'center hall', 'center hall', 'center hall', 'center hall', 'center hall', 'kitchen', 'kitchen', 'kitchen', 'kitchen', 'kitchen', 'kitchen', 'kitchen', 'kitchen', 'kitchen', 'kitchen', 'kitchen', 'kitchen', 'guptesh room', 'guptesh room', 'guptesh room', 'guptesh room', 'guptesh room', 'guptesh room', 'guptesh room', 'guptesh room', 'guptesh room', 'guptesh room', 'guptesh room', 'guptesh room']\n",
            "[{'Crucio b4:a7:c6:b5:ee:e6': -44, 'Avada Kedavra b4:a7:c6:b5:ee:e7': -63, 'Emerald_5G 6c:df:fb:2e:c5:e2': -81, 'Personal_hotspot 6e:df:fb:2e:c5:e2': -81, 'Emerald_2G 6c:df:fb:2e:c5:e1': -81, 'Suraj f4:f2:6d:4f:8f:ca': -83, 'saanvika 70:97:41:cf:52:50': -85, 'Mohan kumar_5GHz f8:0c:58:73:87:6d': -86, ' fa:0c:58:43:87:6d': -87}, {'Crucio b4:a7:c6:b5:ee:e6': -53, 'Avada Kedavra b4:a7:c6:b5:ee:e7': -63, 'yuktha 70:97:41:cf:52:4f': -79, ' fa:0c:58:43:87:6d': -82, 'saanvika 70:97:41:cf:52:50': -83, 'Mohan kumar_5GHz f8:0c:58:73:87:6d': -84, 'Mohan kumar f8:0c:58:73:87:69': -85}, {'Crucio b4:a7:c6:b5:ee:e6': -39, 'Avada Kedavra b4:a7:c6:b5:ee:e7': -51, 'saanvika 70:97:41:cf:52:50': -74, 'Emerald_2G 6c:df:fb:2e:c5:e1': -84, 'Mohan kumar f8:0c:58:73:87:69': -84, 'Mohan kumar_5GHz f8:0c:58:73:87:6d': -86, ' fa:0c:58:43:87:6d': -87}, {'Crucio b4:a7:c6:b5:ee:e6': -53, 'Avada Kedavra b4:a7:c6:b5:ee:e7': -64, 'Emerald_5G 6c:df:fb:2e:c5:e2': -77, 'Personal_hotspot 6e:df:fb:2e:c5:e2': -78, 'Emerald_2G 6c:df:fb:2e:c5:e1': -78, 'yuktha 70:97:41:cf:52:4f': -84}, {'Crucio b4:a7:c6:b5:ee:e6': -53, 'Avada Kedavra b4:a7:c6:b5:ee:e7': -67, 'yuktha 70:97:41:cf:52:4f': -75, 'Emerald_2G 6c:df:fb:2e:c5:e1': -79, 'saanvika 70:97:41:cf:52:50': -80, 'Suraj f4:f2:6d:4f:8f:ca': -82, ' 8a:97:41:cf:52:51': -82, 'Personal_hotspot 6e:df:fb:2e:c5:e2': -83, 'Emerald_5G 6c:df:fb:2e:c5:e2': -84, ' fa:0c:58:43:87:69': -87, 'Mohan kumar_5GHz f8:0c:58:73:87:6d': -87}, {'Crucio b4:a7:c6:b5:ee:e6': -55, ' 92:a7:c6:b5:ee:e8': -71, 'Avada Kedavra b4:a7:c6:b5:ee:e7': -72, 'yuktha 70:97:41:cf:52:4f': -74, 'Personal_hotspot 6e:df:fb:2e:c5:e2': -80, 'Emerald_5G 6c:df:fb:2e:c5:e2': -81, 'Suraj f4:f2:6d:4f:8f:ca': -81, 'Mohan kumar_5GHz f8:0c:58:73:87:6d': -83, ' fa:0c:58:43:87:69': -85, ' fa:0c:58:43:87:6d': -85, ' 8a:97:41:cf:52:51': -85, 'Mohan kumar f8:0c:58:73:87:69': -86, 'Sri bc:62:d2:40:cb:f0': -86, 'Emerald_2G 6c:df:fb:2e:c5:e1': -87}, {'Crucio b4:a7:c6:b5:ee:e6': -50, 'Avada Kedavra b4:a7:c6:b5:ee:e7': -68, 'yuktha 70:97:41:cf:52:4f': -78, 'Emerald_2G 6c:df:fb:2e:c5:e1': -83, ' 8a:97:41:cf:52:51': -83, 'Suraj f4:f2:6d:4f:8f:ca': -84, 'saanvika 70:97:41:cf:52:50': -84, ' fa:0c:58:43:87:6d': -85, ' fa:0c:58:43:87:69': -87}, {'Personal_hotspot 6e:df:fb:2e:c5:e2': -65, 'Emerald_5G 6c:df:fb:2e:c5:e2': -66, 'Crucio b4:a7:c6:b5:ee:e6': -68, 'Emerald_2G 6c:df:fb:2e:c5:e1': -70, 'yuktha 70:97:41:cf:52:4f': -71, 'Avada Kedavra b4:a7:c6:b5:ee:e7': -73, ' 92:a7:c6:b5:ee:e8': -82, ' fa:0c:58:43:87:69': -83, 'Suraj f4:f2:6d:4f:8f:ca': -84, 'Mohan kumar f8:0c:58:73:87:69': -88, ' fa:0c:58:43:87:6d': -89}, {'Emerald_5G 6c:df:fb:2e:c5:e2': -54, 'Personal_hotspot 6e:df:fb:2e:c5:e2': -54, 'Emerald_2G 6c:df:fb:2e:c5:e1': -69, 'Crucio b4:a7:c6:b5:ee:e6': -70, 'Avada Kedavra b4:a7:c6:b5:ee:e7': -73, 'Mohan kumar f8:0c:58:73:87:69': -88}, {'Crucio b4:a7:c6:b5:ee:e6': -69, 'Avada Kedavra b4:a7:c6:b5:ee:e7': -74, ' 8a:97:41:cf:52:51': -74, 'Emerald_2G 6c:df:fb:2e:c5:e1': -75, 'saanvika 70:97:41:cf:52:50': -75, 'yuktha 70:97:41:cf:52:4f': -78, 'Suraj f4:f2:6d:4f:8f:ca': -83}, {'Crucio b4:a7:c6:b5:ee:e6': -62, 'Emerald_5G 6c:df:fb:2e:c5:e2': -62, 'Personal_hotspot 6e:df:fb:2e:c5:e2': -62, 'Emerald_2G 6c:df:fb:2e:c5:e1': -72, 'Avada Kedavra b4:a7:c6:b5:ee:e7': -73, 'yuktha 70:97:41:cf:52:4f': -83, 'Mohan kumar f8:0c:58:73:87:69': -83, ' fa:0c:58:43:87:6d': -88}, {'Crucio b4:a7:c6:b5:ee:e6': -59, 'Personal_hotspot 6e:df:fb:2e:c5:e2': -64, 'Emerald_5G 6c:df:fb:2e:c5:e2': -65, 'Emerald_2G 6c:df:fb:2e:c5:e1': -72, 'Avada Kedavra b4:a7:c6:b5:ee:e7': -78, 'yuktha 70:97:41:cf:52:4f': -84, 'Hanuman2 70:97:41:cb:b3:43': -89}, {'Crucio b4:a7:c6:b5:ee:e6': -61, 'Avada Kedavra b4:a7:c6:b5:ee:e7': -66, 'Emerald_5G 6c:df:fb:2e:c5:e2': -74, 'Personal_hotspot 6e:df:fb:2e:c5:e2': -74, 'saanvika 70:97:41:cf:52:50': -82, ' 8a:97:41:cf:52:51': -82, 'Mohan kumar_5GHz f8:0c:58:73:87:6d': -83, 'yuktha 70:97:41:cf:52:4f': -85, 'Mohan kumar f8:0c:58:73:87:69': -86}, {'Emerald_5G 6c:df:fb:2e:c5:e2': -51, 'Personal_hotspot 6e:df:fb:2e:c5:e2': -51, 'Avada Kedavra b4:a7:c6:b5:ee:e7': -52, 'Emerald_2G 6c:df:fb:2e:c5:e1': -56, 'Mohan kumar_5GHz f8:0c:58:73:87:6d': -83, ' fa:0c:58:43:87:6d': -84}, {'Avada Kedavra b4:a7:c6:b5:ee:e7': -49, 'Crucio b4:a7:c6:b5:ee:e6': -49, 'Emerald_5G 6c:df:fb:2e:c5:e2': -59, 'Personal_hotspot 6e:df:fb:2e:c5:e2': -59, 'Emerald_2G 6c:df:fb:2e:c5:e1': -69, ' fa:0c:58:43:87:6d': -81, 'Mohan kumar f8:0c:58:73:87:69': -82, 'Mohan kumar_5GHz f8:0c:58:73:87:6d': -84}, {'Crucio b4:a7:c6:b5:ee:e6': -48, 'Emerald_5G 6c:df:fb:2e:c5:e2': -54, 'Personal_hotspot 6e:df:fb:2e:c5:e2': -54, 'Emerald_2G 6c:df:fb:2e:c5:e1': -55, 'Avada Kedavra b4:a7:c6:b5:ee:e7': -59}, {'Emerald_5G 6c:df:fb:2e:c5:e2': -47, 'Personal_hotspot 6e:df:fb:2e:c5:e2': -47, 'Emerald_2G 6c:df:fb:2e:c5:e1': -47, 'Avada Kedavra b4:a7:c6:b5:ee:e7': -52, 'Crucio b4:a7:c6:b5:ee:e6': -57, ' fa:0c:58:43:87:6d': -87, 'yuktha 70:97:41:cf:52:4f': -90}, {'Personal_hotspot 6e:df:fb:2e:c5:e2': -43, 'Emerald_5G 6c:df:fb:2e:c5:e2': -47, 'Avada Kedavra b4:a7:c6:b5:ee:e7': -48, 'Emerald_2G 6c:df:fb:2e:c5:e1': -48, 'Crucio b4:a7:c6:b5:ee:e6': -65, ' fa:0c:58:43:87:6d': -82, 'Mohan kumar_5GHz f8:0c:58:73:87:6d': -83}, {'Avada Kedavra b4:a7:c6:b5:ee:e7': -45, 'Emerald_5G 6c:df:fb:2e:c5:e2': -45, 'Personal_hotspot 6e:df:fb:2e:c5:e2': -45, 'Emerald_2G 6c:df:fb:2e:c5:e1': -50, 'Crucio b4:a7:c6:b5:ee:e6': -53, 'Mohan kumar_5GHz f8:0c:58:73:87:6d': -82}, {'Avada Kedavra b4:a7:c6:b5:ee:e7': -48, 'Crucio b4:a7:c6:b5:ee:e6': -48, 'Emerald_5G 6c:df:fb:2e:c5:e2': -52, 'Personal_hotspot 6e:df:fb:2e:c5:e2': -53, 'Emerald_2G 6c:df:fb:2e:c5:e1': -67, 'Suraj f4:f2:6d:4f:8f:ca': -85, 'saanvika 70:97:41:cf:52:50': -87, ' 8a:97:41:cf:52:51': -87, 'Mohan kumar f8:0c:58:73:87:69': -88}, {'Emerald_5G 6c:df:fb:2e:c5:e2': -56, 'Personal_hotspot 6e:df:fb:2e:c5:e2': -56, 'Crucio b4:a7:c6:b5:ee:e6': -57, 'Emerald_2G 6c:df:fb:2e:c5:e1': -62, 'Avada Kedavra b4:a7:c6:b5:ee:e7': -71}, {'Crucio b4:a7:c6:b5:ee:e6': -50, 'Avada Kedavra b4:a7:c6:b5:ee:e7': -56, 'Emerald_2G 6c:df:fb:2e:c5:e1': -62}, {'Avada Kedavra b4:a7:c6:b5:ee:e7': -50, 'Crucio b4:a7:c6:b5:ee:e6': -59, 'Personal_hotspot 6e:df:fb:2e:c5:e2': -59, 'Emerald_5G 6c:df:fb:2e:c5:e2': -60, ' fa:0c:58:43:87:6d': -71, 'Mohan kumar_5GHz f8:0c:58:73:87:6d': -71, 'Emerald_2G 6c:df:fb:2e:c5:e1': -78, 'Mohan kumar f8:0c:58:73:87:69': -82, 'Suraj f4:f2:6d:4f:8f:ca': -85}, {'Avada Kedavra b4:a7:c6:b5:ee:e7': -50, 'Emerald_5G 6c:df:fb:2e:c5:e2': -54, 'Personal_hotspot 6e:df:fb:2e:c5:e2': -54, 'Crucio b4:a7:c6:b5:ee:e6': -57, 'Mohan kumar f8:0c:58:73:87:69': -82, 'Mohan kumar_5GHz f8:0c:58:73:87:6d': -83, ' fa:0c:58:43:87:6d': -84}, {'Avada Kedavra b4:a7:c6:b5:ee:e7': -40, 'Crucio b4:a7:c6:b5:ee:e6': -45, 'Emerald_5G 6c:df:fb:2e:c5:e2': -59, 'Personal_hotspot 6e:df:fb:2e:c5:e2': -59, 'Emerald_2G 6c:df:fb:2e:c5:e1': -64, 'Mohan kumar_5GHz f8:0c:58:73:87:6d': -74, 'Suraj f4:f2:6d:4f:8f:ca': -85, 'saanvika 70:97:41:cf:52:50': -86, ' 8a:97:41:cf:52:51': -86, 'yuktha 70:97:41:cf:52:4f': -90}, {'Avada Kedavra b4:a7:c6:b5:ee:e7': -25, 'Crucio b4:a7:c6:b5:ee:e6': -33, 'Emerald_5G 6c:df:fb:2e:c5:e2': -57, 'Personal_hotspot 6e:df:fb:2e:c5:e2': -57, 'Mohan kumar_5GHz f8:0c:58:73:87:6d': -63, 'Emerald_2G 6c:df:fb:2e:c5:e1': -64, 'Mohan kumar f8:0c:58:73:87:69': -80, ' fa:0c:58:43:87:69': -85}, {'Crucio b4:a7:c6:b5:ee:e6': -39, 'Avada Kedavra b4:a7:c6:b5:ee:e7': -49, 'Mohan kumar_5GHz f8:0c:58:73:87:6d': -70, 'Emerald_5G 6c:df:fb:2e:c5:e2': -72, 'Personal_hotspot 6e:df:fb:2e:c5:e2': -72, 'Mohan kumar f8:0c:58:73:87:69': -73, ' fa:0c:58:43:87:69': -73, 'Suraj f4:f2:6d:4f:8f:ca': -86, 'yuktha 70:97:41:cf:52:4f': -87}, {'Avada Kedavra b4:a7:c6:b5:ee:e7': -27, 'Crucio b4:a7:c6:b5:ee:e6': -46, 'Emerald_5G 6c:df:fb:2e:c5:e2': -59, 'Personal_hotspot 6e:df:fb:2e:c5:e2': -60, 'Emerald_2G 6c:df:fb:2e:c5:e1': -69, ' fa:0c:58:43:87:6d': -76, 'Mohan kumar f8:0c:58:73:87:69': -78, 'Mohan kumar_5GHz f8:0c:58:73:87:6d': -85}, {'Avada Kedavra b4:a7:c6:b5:ee:e7': -34, 'Crucio b4:a7:c6:b5:ee:e6': -42, ' fa:0c:58:43:87:6d': -63, 'Emerald_5G 6c:df:fb:2e:c5:e2': -67, 'Personal_hotspot 6e:df:fb:2e:c5:e2': -68, 'Mohan kumar_5GHz f8:0c:58:73:87:6d': -69, 'Emerald_2G 6c:df:fb:2e:c5:e1': -82, 'Suraj f4:f2:6d:4f:8f:ca': -83, 'Mohan kumar f8:0c:58:73:87:69': -86}, {'Avada Kedavra b4:a7:c6:b5:ee:e7': -25, 'Crucio b4:a7:c6:b5:ee:e6': -32, ' fa:0c:58:43:87:6d': -56, 'Mohan kumar_5GHz f8:0c:58:73:87:6d': -57, 'Emerald_5G 6c:df:fb:2e:c5:e2': -63, 'Personal_hotspot 6e:df:fb:2e:c5:e2': -63, 'Emerald_2G 6c:df:fb:2e:c5:e1': -69, 'JioFi2_E9E495 c8:d7:79:e9:e4:95': -81, 'Suraj f4:f2:6d:4f:8f:ca': -85}, {'Crucio b4:a7:c6:b5:ee:e6': -36, 'Avada Kedavra b4:a7:c6:b5:ee:e7': -37, 'Emerald_5G 6c:df:fb:2e:c5:e2': -60, 'Personal_hotspot 6e:df:fb:2e:c5:e2': -60, 'Emerald_2G 6c:df:fb:2e:c5:e1': -71, 'Mohan kumar_5GHz f8:0c:58:73:87:6d': -83, 'Mohan kumar f8:0c:58:73:87:69': -85, 'yuktha 70:97:41:cf:52:4f': -85}, {'Avada Kedavra b4:a7:c6:b5:ee:e7': -31, 'Crucio b4:a7:c6:b5:ee:e6': -31, 'Emerald_5G 6c:df:fb:2e:c5:e2': -65, 'Personal_hotspot 6e:df:fb:2e:c5:e2': -67, 'Mohan kumar_5GHz f8:0c:58:73:87:6d': -71, 'JioFi2_E9E495 c8:d7:79:e9:e4:95': -81, 'Suraj f4:f2:6d:4f:8f:ca': -82, ' fa:0c:58:43:87:69': -82, 'Mohan kumar f8:0c:58:73:87:69': -83, 'yuktha 70:97:41:cf:52:4f': -87}, {'Avada Kedavra b4:a7:c6:b5:ee:e7': -33, 'Crucio b4:a7:c6:b5:ee:e6': -46, 'Emerald_5G 6c:df:fb:2e:c5:e2': -69, 'Personal_hotspot 6e:df:fb:2e:c5:e2': -70, 'Emerald_2G 6c:df:fb:2e:c5:e1': -72, 'Mohan kumar_5GHz f8:0c:58:73:87:6d': -73, 'Mohan kumar f8:0c:58:73:87:69': -81, 'Suraj f4:f2:6d:4f:8f:ca': -87}, {'Crucio b4:a7:c6:b5:ee:e6': -34, 'Avada Kedavra b4:a7:c6:b5:ee:e7': -37, 'Emerald_5G 6c:df:fb:2e:c5:e2': -64, 'Personal_hotspot 6e:df:fb:2e:c5:e2': -66, 'Emerald_2G 6c:df:fb:2e:c5:e1': -69, 'Mohan kumar_5GHz f8:0c:58:73:87:6d': -71, 'Suraj f4:f2:6d:4f:8f:ca': -79, ' fa:0c:58:43:87:69': -80, 'yuktha 70:97:41:cf:52:4f': -84, 'JioFi2_E9E495 c8:d7:79:e9:e4:95': -84, 'Mohan kumar f8:0c:58:73:87:69': -87}, {'Avada Kedavra b4:a7:c6:b5:ee:e7': -33, 'Crucio b4:a7:c6:b5:ee:e6': -43, 'Personal_hotspot 6e:df:fb:2e:c5:e2': -61, 'Emerald_5G 6c:df:fb:2e:c5:e2': -62, 'Mohan kumar_5GHz f8:0c:58:73:87:6d': -70, 'Emerald_2G 6c:df:fb:2e:c5:e1': -71, ' fa:0c:58:43:87:69': -73, 'Mohan kumar f8:0c:58:73:87:69': -76, 'Suraj f4:f2:6d:4f:8f:ca': -78, 'JioFi2_E9E495 c8:d7:79:e9:e4:95': -85}, {'Crucio b4:a7:c6:b5:ee:e6': -22, 'Avada Kedavra b4:a7:c6:b5:ee:e7': -30, 'Emerald_5G 6c:df:fb:2e:c5:e2': -70, 'Personal_hotspot 6e:df:fb:2e:c5:e2': -70, 'Mohan kumar_5GHz f8:0c:58:73:87:6d': -79, ' fa:0c:58:43:87:6d': -81, 'Suraj f4:f2:6d:4f:8f:ca': -81, 'JioFi2_E9E495 c8:d7:79:e9:e4:95': -83, 'Mohan kumar f8:0c:58:73:87:69': -85, 'yuktha 70:97:41:cf:52:4f': -85}, {'Avada Kedavra b4:a7:c6:b5:ee:e7': -24, 'Crucio b4:a7:c6:b5:ee:e6': -28, ' fa:0c:58:43:87:6d': -71, 'Mohan kumar_5GHz f8:0c:58:73:87:6d': -71, 'Personal_hotspot 6e:df:fb:2e:c5:e2': -76, 'Emerald_5G 6c:df:fb:2e:c5:e2': -77, 'Mohan kumar f8:0c:58:73:87:69': -79, 'yuktha 70:97:41:cf:52:4f': -83, 'Suraj f4:f2:6d:4f:8f:ca': -86}]\n"
          ]
        }
      ]
    },
    {
      "cell_type": "markdown",
      "source": [
        "# **Data preprocessing**"
      ],
      "metadata": {
        "id": "REJ8ZKLISSlE"
      }
    },
    {
      "cell_type": "code",
      "source": [
        "from sklearn.model_selection import train_test_split\n",
        "from sklearn.feature_extraction import DictVectorizer\n",
        "from sklearn.decomposition import PCA\n",
        "from sklearn.preprocessing import LabelEncoder\n",
        "\n",
        "dictVectorizer = DictVectorizer(sparse=False)\n",
        "label_encoder = LabelEncoder()\n",
        "\n",
        "X = dictVectorizer.fit_transform(x)\n",
        "Y = label_encoder.fit_transform(y)\n",
        "\n",
        "X, Xt, Y, Yt = train_test_split(X, Y, test_size=0.33, random_state=42)"
      ],
      "metadata": {
        "id": "2qEI13CyxUQp"
      },
      "execution_count": 66,
      "outputs": []
    },
    {
      "cell_type": "code",
      "source": [
        "print(len(X))\n",
        "print(len(Y))\n",
        "\n",
        "print(len(Xt))\n",
        "print(len(Yt))"
      ],
      "metadata": {
        "colab": {
          "base_uri": "https://localhost:8080/"
        },
        "id": "omqazo0pUNgl",
        "outputId": "90f3ef82-8350-4267-c57e-1ff147d12fe1"
      },
      "execution_count": 67,
      "outputs": [
        {
          "output_type": "stream",
          "name": "stdout",
          "text": [
            "24\n",
            "24\n",
            "13\n",
            "13\n"
          ]
        }
      ]
    },
    {
      "cell_type": "markdown",
      "source": [
        "# **Exploring models**"
      ],
      "metadata": {
        "id": "ipCc_gmvUc4a"
      }
    },
    {
      "cell_type": "code",
      "source": [
        "from sklearn.metrics import accuracy_score\n",
        "from matplotlib import pyplot as plt"
      ],
      "metadata": {
        "id": "b_nEnFolWMv7"
      },
      "execution_count": 68,
      "outputs": []
    },
    {
      "cell_type": "markdown",
      "source": [
        "### **Naive Bayes classifier**"
      ],
      "metadata": {
        "id": "k2_lhF0BUld9"
      }
    },
    {
      "cell_type": "code",
      "source": [
        "from sklearn.naive_bayes import GaussianNB\n",
        "clf = GaussianNB()\n",
        "clf.fit(X, Y)"
      ],
      "metadata": {
        "colab": {
          "base_uri": "https://localhost:8080/"
        },
        "id": "0VdXciRCWHdO",
        "outputId": "05ccef22-13b4-44ed-ff4d-e2e61e72c08c"
      },
      "execution_count": 69,
      "outputs": [
        {
          "output_type": "execute_result",
          "data": {
            "text/plain": [
              "GaussianNB()"
            ]
          },
          "metadata": {},
          "execution_count": 69
        }
      ]
    },
    {
      "cell_type": "code",
      "source": [
        "nb_acc = accuracy_score(Yt, clf.predict(Xt))\n",
        "nb_acc"
      ],
      "metadata": {
        "colab": {
          "base_uri": "https://localhost:8080/"
        },
        "id": "RJ2NgmI0WQFc",
        "outputId": "50d9348a-fc09-4d98-ba80-7a19af5b6c17"
      },
      "execution_count": 70,
      "outputs": [
        {
          "output_type": "execute_result",
          "data": {
            "text/plain": [
              "0.6153846153846154"
            ]
          },
          "metadata": {},
          "execution_count": 70
        }
      ]
    },
    {
      "cell_type": "markdown",
      "source": [
        "### **k-Nearest Neighbour classifier**"
      ],
      "metadata": {
        "id": "uXLkrjmwWYmh"
      }
    },
    {
      "cell_type": "code",
      "source": [
        "from sklearn.neighbors import KNeighborsClassifier\n",
        "neighbours = [2*k + 1 for k in range(1, 10)]\n",
        "accuracies = []\n",
        "for n in neighbours:\n",
        "  clf = KNeighborsClassifier(n_neighbors=n)\n",
        "  clf.fit(X, Y)\n",
        "  accuracies.append(accuracy_score(Yt, clf.predict(Xt)))"
      ],
      "metadata": {
        "id": "O61ltzGhWXRX"
      },
      "execution_count": 71,
      "outputs": []
    },
    {
      "cell_type": "code",
      "source": [
        "plt.xlim([neighbours[0], neighbours[-1]])\n",
        "plt.ylim([0, 1])\n",
        "plt.plot(neighbours, accuracies)"
      ],
      "metadata": {
        "colab": {
          "base_uri": "https://localhost:8080/",
          "height": 286
        },
        "id": "h-VkJ0tZXM9e",
        "outputId": "dbf77db4-d3f6-4ef9-c2e6-47df59694ec1"
      },
      "execution_count": 72,
      "outputs": [
        {
          "output_type": "execute_result",
          "data": {
            "text/plain": [
              "[<matplotlib.lines.Line2D at 0x7f6d2386ca90>]"
            ]
          },
          "metadata": {},
          "execution_count": 72
        },
        {
          "output_type": "display_data",
          "data": {
            "text/plain": [
              "<Figure size 432x288 with 1 Axes>"
            ],
            "image/png": "[encoded data removed]"
          },
          "metadata": {
            "needs_background": "light"
          }
        }
      ]
    },
    {
      "cell_type": "markdown",
      "source": [
        "From the above plot we notice that n = 7 produces the best results on an average, hence that is the model we will consider"
      ],
      "metadata": {
        "id": "6hEeF4wsYkq5"
      }
    },
    {
      "cell_type": "code",
      "source": [
        "knn_acc = accuracies[2]\n",
        "knn_acc"
      ],
      "metadata": {
        "colab": {
          "base_uri": "https://localhost:8080/"
        },
        "id": "xFGnaatgZs53",
        "outputId": "f70068e0-e063-46d2-b912-652bff82e7ed"
      },
      "execution_count": 73,
      "outputs": [
        {
          "output_type": "execute_result",
          "data": {
            "text/plain": [
              "0.6923076923076923"
            ]
          },
          "metadata": {},
          "execution_count": 73
        }
      ]
    },
    {
      "cell_type": "markdown",
      "source": [
        "### **Decision Trees**"
      ],
      "metadata": {
        "id": "K1SHOIMgZONw"
      }
    },
    {
      "cell_type": "code",
      "source": [
        "from sklearn.tree import DecisionTreeClassifier, plot_tree\n",
        "clf = DecisionTreeClassifier()\n",
        "clf.fit(X, Y)"
      ],
      "metadata": {
        "colab": {
          "base_uri": "https://localhost:8080/"
        },
        "id": "aJUR60enZT79",
        "outputId": "4892ce49-0ed3-4df8-a510-65cc1c9b7ffd"
      },
      "execution_count": 74,
      "outputs": [
        {
          "output_type": "execute_result",
          "data": {
            "text/plain": [
              "DecisionTreeClassifier()"
            ]
          },
          "metadata": {},
          "execution_count": 74
        }
      ]
    },
    {
      "cell_type": "code",
      "source": [
        "plot_tree(clf)"
      ],
      "metadata": {
        "colab": {
          "base_uri": "https://localhost:8080/",
          "height": 439
        },
        "id": "oYKGbIxeZzo8",
        "outputId": "88601234-51eb-4aa9-9254-8292fe78b5a5"
      },
      "execution_count": 75,
      "outputs": [
        {
          "output_type": "execute_result",
          "data": {
            "text/plain": [
              "[Text(0.6, 0.9166666666666666, 'X[4] <= -41.0\\ngini = 0.733\\nsamples = 24\\nvalue = [4, 8, 7, 5]'),\n",
              " Text(0.4, 0.75, 'X[4] <= -72.5\\ngini = 0.648\\nsamples = 16\\nvalue = [4, 0, 7, 5]'),\n",
              " Text(0.2, 0.5833333333333334, 'gini = 0.0\\nsamples = 4\\nvalue = [4, 0, 0, 0]'),\n",
              " Text(0.6, 0.5833333333333334, 'X[4] <= -50.5\\ngini = 0.486\\nsamples = 12\\nvalue = [0, 0, 7, 5]'),\n",
              " Text(0.4, 0.4166666666666667, 'X[6] <= -70.0\\ngini = 0.408\\nsamples = 7\\nvalue = [0, 0, 2, 5]'),\n",
              " Text(0.2, 0.25, 'gini = 0.0\\nsamples = 4\\nvalue = [0, 0, 0, 4]'),\n",
              " Text(0.6, 0.25, 'X[11] <= -42.0\\ngini = 0.444\\nsamples = 3\\nvalue = [0, 0, 2, 1]'),\n",
              " Text(0.4, 0.08333333333333333, 'gini = 0.0\\nsamples = 1\\nvalue = [0, 0, 0, 1]'),\n",
              " Text(0.8, 0.08333333333333333, 'gini = 0.0\\nsamples = 2\\nvalue = [0, 0, 2, 0]'),\n",
              " Text(0.8, 0.4166666666666667, 'gini = 0.0\\nsamples = 5\\nvalue = [0, 0, 5, 0]'),\n",
              " Text(0.8, 0.75, 'gini = 0.0\\nsamples = 8\\nvalue = [0, 8, 0, 0]')]"
            ]
          },
          "metadata": {},
          "execution_count": 75
        },
        {
          "output_type": "display_data",
          "data": {
            "text/plain": [
              "<Figure size 432x288 with 1 Axes>"
            ],
            "image/png": "[encoded data removed]"
          },
          "metadata": {
            "needs_background": "light"
          }
        }
      ]
    },
    {
      "cell_type": "code",
      "source": [
        "dt_acc = accuracy_score(Yt, clf.predict(Xt))\n",
        "dt_acc"
      ],
      "metadata": {
        "colab": {
          "base_uri": "https://localhost:8080/"
        },
        "id": "dfAwynrnbVgG",
        "outputId": "68bb94d2-dd5e-4515-a578-557170aa4eac"
      },
      "execution_count": 76,
      "outputs": [
        {
          "output_type": "execute_result",
          "data": {
            "text/plain": [
              "0.6923076923076923"
            ]
          },
          "metadata": {},
          "execution_count": 76
        }
      ]
    },
    {
      "cell_type": "markdown",
      "source": [
        "### **Random forests**"
      ],
      "metadata": {
        "id": "W04cd6HM0V3T"
      }
    },
    {
      "cell_type": "code",
      "source": [
        "from sklearn.ensemble import RandomForestClassifier\n",
        "depth = [k for k in range(2, 10)]\n",
        "accuracies = []\n",
        "for n in depth:\n",
        "  clf = RandomForestClassifier(max_depth=n, random_state=324)\n",
        "  clf.fit(X, Y)\n",
        "  accuracies.append(accuracy_score(Yt, clf.predict(Xt)))"
      ],
      "metadata": {
        "id": "egZHmqnYy6aW"
      },
      "execution_count": 77,
      "outputs": []
    },
    {
      "cell_type": "code",
      "source": [
        "plt.xlim([depth[0], depth[-1]])\n",
        "plt.ylim([0, 1])\n",
        "plt.plot(depth, accuracies)"
      ],
      "metadata": {
        "colab": {
          "base_uri": "https://localhost:8080/",
          "height": 286
        },
        "id": "xKUrustl1jr8",
        "outputId": "14c1a2ee-e071-4216-a41c-97030e0911fb"
      },
      "execution_count": 78,
      "outputs": [
        {
          "output_type": "execute_result",
          "data": {
            "text/plain": [
              "[<matplotlib.lines.Line2D at 0x7f6d236d8070>]"
            ]
          },
          "metadata": {},
          "execution_count": 78
        },
        {
          "output_type": "display_data",
          "data": {
            "text/plain": [
              "<Figure size 432x288 with 1 Axes>"
            ],
            "image/png": "[encoded data removed]"
          },
          "metadata": {
            "needs_background": "light"
          }
        }
      ]
    },
    {
      "cell_type": "markdown",
      "source": [
        "We found that depth = 2 worked well on an average"
      ],
      "metadata": {
        "id": "GLltm2Sy2NH0"
      }
    },
    {
      "cell_type": "code",
      "source": [
        "rf_acc = accuracies[0]\n",
        "rf_acc"
      ],
      "metadata": {
        "colab": {
          "base_uri": "https://localhost:8080/"
        },
        "id": "rrW4fcOI2DW2",
        "outputId": "f96ff74d-68f9-409a-a542-b4154f628e4e"
      },
      "execution_count": 79,
      "outputs": [
        {
          "output_type": "execute_result",
          "data": {
            "text/plain": [
              "0.8461538461538461"
            ]
          },
          "metadata": {},
          "execution_count": 79
        }
      ]
    },
    {
      "cell_type": "markdown",
      "source": [
        "# **Model comparisons**"
      ],
      "metadata": {
        "id": "DRWFK64o20SW"
      }
    },
    {
      "cell_type": "code",
      "source": [
        "models = ['Naive Bayes', 'KNN', 'DT', 'RF']\n",
        "acc = [nb_acc, knn_acc, dt_acc, rf_acc]\n",
        "\n",
        "plt.bar(models, acc, color ='maroon', width = 0.4)"
      ],
      "metadata": {
        "colab": {
          "base_uri": "https://localhost:8080/",
          "height": 282
        },
        "id": "K2h-CEf425Qx",
        "outputId": "de268a69-e077-45bb-a76f-6f30fa9bb82c"
      },
      "execution_count": 80,
      "outputs": [
        {
          "output_type": "execute_result",
          "data": {
            "text/plain": [
              "<BarContainer object of 4 artists>"
            ]
          },
          "metadata": {},
          "execution_count": 80
        },
        {
          "output_type": "display_data",
          "data": {
            "text/plain": [
              "<Figure size 432x288 with 1 Axes>"
            ],
            "image/png": "[encoded data removed]"
          },
          "metadata": {
            "needs_background": "light"
          }
        }
      ]
    },
    {
      "cell_type": "markdown",
      "source": [
        "Thus the model we chose was random forests.\n",
        "\n",
        "Side note: Support Vector Machines and Neural Networks did not give much improvent from random forests for the performance penalty we had to pay. "
      ],
      "metadata": {
        "id": "11FoMxcd3gTi"
      }
    }
  ]
}